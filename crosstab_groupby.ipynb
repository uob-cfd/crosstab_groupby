{
 "cells": [
  {
   "cell_type": "markdown",
   "id": "28e9f695",
   "metadata": {},
   "source": [
    "# Crosstab and Groupby"
   ]
  },
  {
   "cell_type": "code",
   "execution_count": null,
   "id": "e4962d1f",
   "metadata": {},
   "outputs": [],
   "source": [
    "# Don't change this cell; just run it.\n",
    "import numpy as np  # The array library.\n",
    "import pandas as pd\n",
    "# Safe settings for Pandas.\n",
    "pd.set_option('mode.chained_assignment', 'raise')\n",
    "\n",
    "# The OKpy testing system.\n",
    "from client.api.notebook import Notebook\n",
    "ok = Notebook('crosstab_groupby.ok')"
   ]
  },
  {
   "cell_type": "markdown",
   "id": "6d1373db",
   "metadata": {},
   "source": [
    "## The Gender stats dataset"
   ]
  },
  {
   "cell_type": "markdown",
   "id": "284d3687",
   "metadata": {},
   "source": [
    "We return to the chronic kidney disease (CKD) dataset.  Each row in the data\n",
    "set represents a single patient who was treated in the past and whose\n",
    "diagnosis is known.\n",
    "\n",
    "If you are running on your laptop, you should download the `ckd_clean.csv` dataset via the [chronic kidney disease page](https://uob-ds.github.io/cfd2021/data/chronic_kidney_disease).\n",
    "\n",
    "Load the `ckd_clean.csv` dataset as the variable `ckd`:"
   ]
  },
  {
   "cell_type": "code",
   "execution_count": null,
   "id": "2ac1c6e9",
   "metadata": {},
   "outputs": [],
   "source": [
    "ckd = ...\n",
    "ckd.head()"
   ]
  },
  {
   "cell_type": "code",
   "execution_count": null,
   "id": "9380b8bd",
   "metadata": {},
   "outputs": [],
   "source": [
    "_ = ok.grade('q_01_ckd')"
   ]
  },
  {
   "cell_type": "markdown",
   "id": "f6149a51",
   "metadata": {},
   "source": [
    "The values in the `Class` column are not very evocative: 1 for chronic kidney disease, 0 for not chronic kidney disease.\n",
    "\n",
    "Make a new column called `Patient` in the `ckd` data frame.   It should have `CKD` for patients with chronic kidney disease and `Not CKD` otherwise."
   ]
  },
  {
   "cell_type": "code",
   "execution_count": null,
   "id": "dff275ab",
   "metadata": {},
   "outputs": [],
   "source": [
    "ckd['Patient'] = ...\n",
    "# Show the first 5 rows of the result.\n",
    "ckd.head()"
   ]
  },
  {
   "cell_type": "code",
   "execution_count": null,
   "id": "7a4ca971",
   "metadata": {},
   "outputs": [],
   "source": [
    "_ = ok.grade('q_02_patient')"
   ]
  },
  {
   "cell_type": "markdown",
   "id": "e92ad297",
   "metadata": {},
   "source": [
    "We are interested to see the counts of CKD patient and not-patients that have\n",
    "hypertension (high blood pressure).\n",
    "\n",
    "Set `ht_by_patient` to be a data frame that is the cross-tabulation of the `Hypertension` (rows) and `Patient` (columns) categories:"
   ]
  },
  {
   "cell_type": "code",
   "execution_count": null,
   "id": "ad30ce0b",
   "metadata": {},
   "outputs": [],
   "source": [
    "ht_by_patient = ...\n",
    "# Show the resulting table.\n",
    "ht_by_patient"
   ]
  },
  {
   "cell_type": "code",
   "execution_count": null,
   "id": "80909354",
   "metadata": {},
   "outputs": [],
   "source": [
    "_ = ok.grade('q_03_ht_by_patient')"
   ]
  },
  {
   "cell_type": "markdown",
   "id": "f6d2e4ea",
   "metadata": {},
   "source": [
    "Actually, it would be even more useful to see the proportions of CKD and not-CKD patients that have hypertension.  Set the variable `ht_p_by_patient` to be a data frame where the values are the proportion of patients in the given category, that have hypertension."
   ]
  },
  {
   "cell_type": "code",
   "execution_count": null,
   "id": "e6c4c892",
   "metadata": {},
   "outputs": [],
   "source": [
    "ht_p_by_patient = ...\n",
    "# Show the result\n",
    "ht_p_by_patient"
   ]
  },
  {
   "cell_type": "code",
   "execution_count": null,
   "id": "a368e08c",
   "metadata": {},
   "outputs": [],
   "source": [
    "_ = ok.grade('q_04_ht_p_by_patient')"
   ]
  },
  {
   "cell_type": "markdown",
   "id": "ba841b6a",
   "metadata": {},
   "source": [
    "Now we are interested in the incidence of pedal edema in the patients and\n",
    "not-patients.  Pedal edema is swelling of the feet caused by fluid retention;\n",
    "it is relatively common in kidney disease.\n",
    "\n",
    "Now do a multiway table with all the unique pairings of `Hypertension` and\n",
    "`Pedal Edema` over the rows, and the `Patient` category in the columns.\n",
    "\n",
    "You will see the following combinations listed in the rows:\n",
    "\n",
    "* Hypertension: no; pedal edema: no\n",
    "* Hypertension: no; pedal edema: yes\n",
    "* Hypertension: yes; pedal edema: no\n",
    "* Hypertension: yes; pedal edema: yes\n",
    "\n",
    "Set the variable `ht_pe_by_patient` to contain this data frame."
   ]
  },
  {
   "cell_type": "code",
   "execution_count": null,
   "id": "85053ae7",
   "metadata": {},
   "outputs": [],
   "source": [
    "ht_pe_by_patient = ...\n",
    "# Show the result\n",
    "ht_pe_by_patient"
   ]
  },
  {
   "cell_type": "code",
   "execution_count": null,
   "id": "009e3bdd",
   "metadata": {},
   "outputs": [],
   "source": [
    "_ = ok.grade('q_05_ht_pe_by_patient')"
   ]
  },
  {
   "cell_type": "markdown",
   "id": "899367a0",
   "metadata": {},
   "source": [
    "## Grouping\n",
    "\n",
    "Now we are interested in doing some aggregation by categories.\n",
    "\n",
    "In particular, we want to aggregate by the `Patient` column.\n",
    "\n",
    "Create a GroupBy object by grouping the `ckd` data frame by the `Patient` column.  Store this in the variable `by_patient`."
   ]
  },
  {
   "cell_type": "code",
   "execution_count": null,
   "id": "0f9867ee",
   "metadata": {},
   "outputs": [],
   "source": [
    "by_patient = ...\n",
    "# Show the result\n",
    "by_patient"
   ]
  },
  {
   "cell_type": "code",
   "execution_count": null,
   "id": "276759cc",
   "metadata": {},
   "outputs": [],
   "source": [
    "_ = ok.grade('q_06_by_patient')"
   ]
  },
  {
   "cell_type": "markdown",
   "id": "6919eeb8",
   "metadata": {},
   "source": [
    "Calculate the means of all the numeric variables over the groups, store the results as `mean_by_patient`."
   ]
  },
  {
   "cell_type": "code",
   "execution_count": null,
   "id": "98617fae",
   "metadata": {},
   "outputs": [],
   "source": [
    "mean_by_patient = ...\n",
    "# Show the result\n",
    "mean_by_patient"
   ]
  },
  {
   "cell_type": "code",
   "execution_count": null,
   "id": "dc8f4f3c",
   "metadata": {},
   "outputs": [],
   "source": [
    "_ = ok.grade('q_07_mean_by_patient')"
   ]
  },
  {
   "cell_type": "markdown",
   "id": "7032b6e5",
   "metadata": {},
   "source": [
    "Actually, we are only interested, for now, in the mean for the `Hemoglobin` column.  Calculate this mean, broken down by `Patient`.  Store as `hgb_by_patient`."
   ]
  },
  {
   "cell_type": "code",
   "execution_count": null,
   "id": "b34a180f",
   "metadata": {},
   "outputs": [],
   "source": [
    "hgb_by_patient = ...\n",
    "# Show the result\n",
    "hgb_by_patient"
   ]
  },
  {
   "cell_type": "code",
   "execution_count": null,
   "id": "c41b156f",
   "metadata": {},
   "outputs": [],
   "source": [
    "_ = ok.grade('q_08_hgb_by_patient')"
   ]
  },
  {
   "cell_type": "markdown",
   "id": "d41f9e95",
   "metadata": {},
   "source": [
    "Use `.loc` indexing to print the results of the same calculation.  You should\n",
    "select the `CKD` rows from `ckd` and calculate the mean of the `Hemoglobin`\n",
    "values, and then do the same for the `Not CKD` rows."
   ]
  },
  {
   "cell_type": "code",
   "execution_count": null,
   "id": "b02f8c8d",
   "metadata": {},
   "outputs": [],
   "source": [
    "print(ckd.loc...)\n",
    "print(ckd.loc...)"
   ]
  },
  {
   "cell_type": "markdown",
   "id": "8069162c",
   "metadata": {},
   "source": [
    "You should find that the results are the same as the results from the GroupBy\n",
    "above."
   ]
  },
  {
   "cell_type": "markdown",
   "id": "75b85e79",
   "metadata": {},
   "source": [
    "Make a GroupBy that breaks down the rows by *both* `Patient` and `Diabetes\n",
    "Mellitus`.  Show the *median* of all the numerical values for each subgroup:"
   ]
  },
  {
   "cell_type": "code",
   "execution_count": null,
   "id": "ac9e3102",
   "metadata": {},
   "outputs": [],
   "source": [
    "by_pt_dm = ...\n",
    "pt_dm_medians = ...\n",
    "# Show the result\n",
    "pt_dm_medians"
   ]
  },
  {
   "cell_type": "code",
   "execution_count": null,
   "id": "332564be",
   "metadata": {},
   "outputs": [],
   "source": [
    "_ = ok.grade('q_09_pt_dm_medians')"
   ]
  },
  {
   "cell_type": "markdown",
   "id": "7439e2e0",
   "metadata": {},
   "source": [
    "Finally we return to the GroupBy over `Patient` (only).  We do want to aggregate, but we want only two aggregate values.  We want the mean of the `Blood Pressure` values - we will call the resulting column `mean_bp`.  We also want the median of the `Age` values.   We will call this column `median_age`:"
   ]
  },
  {
   "cell_type": "code",
   "execution_count": null,
   "id": "4adf2165",
   "metadata": {},
   "outputs": [],
   "source": [
    "fancy_values = by_patient.aggregate(...)\n",
    "# Show the result\n",
    "fancy_values"
   ]
  },
  {
   "cell_type": "code",
   "execution_count": null,
   "id": "07a29cee",
   "metadata": {},
   "outputs": [],
   "source": [
    "_ = ok.grade('q_10_fancy_values')"
   ]
  },
  {
   "cell_type": "markdown",
   "id": "fb9e45c2",
   "metadata": {},
   "source": [
    "## Done.\n",
    "\n",
    "Congratulations, you're done with the assignment!  Be sure to:\n",
    "\n",
    "- **run all the tests** (the next cell has a shortcut for that).\n",
    "- **Save and Checkpoint** from the `File` menu."
   ]
  },
  {
   "cell_type": "code",
   "execution_count": null,
   "id": "6b859264",
   "metadata": {},
   "outputs": [],
   "source": [
    "# For your convenience, you can run this cell to run all the tests at once!\n",
    "import os\n",
    "_ = [ok.grade(q[:-3]) for q in os.listdir(\"tests\") if q.startswith('q')]"
   ]
  },
  {
   "cell_type": "code",
   "execution_count": null,
   "id": "0ce784a3",
   "metadata": {},
   "outputs": [],
   "source": []
  }
 ],
 "metadata": {
  "jupytext": {
   "notebook_metadata_filter": "all,-language_info",
   "split_at_heading": true,
   "text_representation": {
    "extension": ".Rmd",
    "format_name": "rmarkdown",
    "format_version": "1.2",
    "jupytext_version": "1.8.2"
   }
  },
  "kernelspec": {
   "display_name": "Python 3",
   "language": "python",
   "name": "python3"
  }
 },
 "nbformat": 4,
 "nbformat_minor": 5
}
